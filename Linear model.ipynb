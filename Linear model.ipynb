{
 "cells": [
  {
   "cell_type": "code",
   "execution_count": 12,
   "metadata": {},
   "outputs": [
    {
     "data": {
      "text/plain": [
       "\"\\n'OUTPUT = OVERSEAS / WORLDWIDE (if no OVERSEAS drop Records)'\\nLinear Regression (RMSE, Feature Importance(coefficient))\\nRandom Forest\\nGBM\\n\\n\\nFEATURE importance Plot (bar Chart)\\nVISUALIZE W/ SEABORN\\nBring them together in presentation\\n\""
      ]
     },
     "execution_count": 12,
     "metadata": {},
     "output_type": "execute_result"
    }
   ],
   "source": [
    "'''\n",
    "'OUTPUT = OVERSEAS / WORLDWIDE (if no OVERSEAS drop Records)'\n",
    "Linear Regression (RMSE, Feature Importance(coefficient))\n",
    "Random Forest\n",
    "GBM\n",
    "\n",
    "\n",
    "FEATURE importance Plot (bar Chart)\n",
    "VISUALIZE W/ SEABORN\n",
    "Bring them together in presentation\n",
    "'''"
   ]
  },
  {
   "cell_type": "code",
   "execution_count": 13,
   "metadata": {},
   "outputs": [],
   "source": [
    "import pandas as pd\n",
    "import numpy as np\n",
    "import sklearn.linear_model\n",
    "import tensorflow as tf"
   ]
  },
  {
   "cell_type": "code",
   "execution_count": 14,
   "metadata": {},
   "outputs": [],
   "source": [
    "df = pd.read_csv('Standardized_data.csv')"
   ]
  },
  {
   "cell_type": "code",
   "execution_count": 15,
   "metadata": {},
   "outputs": [],
   "source": [
    "df = df.drop('Unnamed: 0', axis =1)\n",
    "titles = df['Movie']\n",
    "df = df.drop('Movie', axis=1)"
   ]
  },
  {
   "cell_type": "code",
   "execution_count": 16,
   "metadata": {},
   "outputs": [
    {
     "data": {
      "text/html": [
       "<div>\n",
       "<style scoped>\n",
       "    .dataframe tbody tr th:only-of-type {\n",
       "        vertical-align: middle;\n",
       "    }\n",
       "\n",
       "    .dataframe tbody tr th {\n",
       "        vertical-align: top;\n",
       "    }\n",
       "\n",
       "    .dataframe thead th {\n",
       "        text-align: right;\n",
       "    }\n",
       "</style>\n",
       "<table border=\"1\" class=\"dataframe\">\n",
       "  <thead>\n",
       "    <tr style=\"text-align: right;\">\n",
       "      <th></th>\n",
       "      <th>Runtime (Minutes)</th>\n",
       "      <th>Years Old</th>\n",
       "      <th>Production Budget</th>\n",
       "      <th>Director Twitter following</th>\n",
       "      <th>Top 3</th>\n",
       "      <th>Cast Twitter Following</th>\n",
       "      <th>Avg English Score</th>\n",
       "      <th>Rare English Score</th>\n",
       "      <th>Common English Score</th>\n",
       "      <th>Action</th>\n",
       "      <th>...</th>\n",
       "      <th>Apr</th>\n",
       "      <th>May</th>\n",
       "      <th>Jun</th>\n",
       "      <th>Jul</th>\n",
       "      <th>Aug</th>\n",
       "      <th>Sep</th>\n",
       "      <th>Oct</th>\n",
       "      <th>Nov</th>\n",
       "      <th>Dec</th>\n",
       "      <th>Target</th>\n",
       "    </tr>\n",
       "  </thead>\n",
       "  <tbody>\n",
       "    <tr>\n",
       "      <th>0</th>\n",
       "      <td>1.055334</td>\n",
       "      <td>-0.997911</td>\n",
       "      <td>0.670921</td>\n",
       "      <td>-0.195845</td>\n",
       "      <td>-0.262658</td>\n",
       "      <td>-0.428973</td>\n",
       "      <td>-1.052721</td>\n",
       "      <td>0.70303</td>\n",
       "      <td>-0.323004</td>\n",
       "      <td>-0.642262</td>\n",
       "      <td>...</td>\n",
       "      <td>1.0</td>\n",
       "      <td>0.0</td>\n",
       "      <td>0.0</td>\n",
       "      <td>0.0</td>\n",
       "      <td>0.0</td>\n",
       "      <td>0.0</td>\n",
       "      <td>0.0</td>\n",
       "      <td>0.0</td>\n",
       "      <td>0.0</td>\n",
       "      <td>0.220551</td>\n",
       "    </tr>\n",
       "  </tbody>\n",
       "</table>\n",
       "<p>1 rows × 35 columns</p>\n",
       "</div>"
      ],
      "text/plain": [
       "   Runtime (Minutes)  Years Old  Production Budget  \\\n",
       "0           1.055334  -0.997911           0.670921   \n",
       "\n",
       "   Director Twitter following     Top 3  Cast Twitter Following  \\\n",
       "0                   -0.195845 -0.262658               -0.428973   \n",
       "\n",
       "   Avg English Score  Rare English Score  Common English Score    Action  ...  \\\n",
       "0          -1.052721             0.70303             -0.323004 -0.642262  ...   \n",
       "\n",
       "   Apr  May  Jun  Jul  Aug  Sep  Oct  Nov  Dec    Target  \n",
       "0  1.0  0.0  0.0  0.0  0.0  0.0  0.0  0.0  0.0  0.220551  \n",
       "\n",
       "[1 rows x 35 columns]"
      ]
     },
     "execution_count": 16,
     "metadata": {},
     "output_type": "execute_result"
    }
   ],
   "source": [
    "df.head(1)"
   ]
  },
  {
   "cell_type": "code",
   "execution_count": 17,
   "metadata": {},
   "outputs": [],
   "source": [
    "from sklearn.model_selection import train_test_split"
   ]
  },
  {
   "cell_type": "code",
   "execution_count": 34,
   "metadata": {},
   "outputs": [
    {
     "name": "stdout",
     "output_type": "stream",
     "text": [
      "Index(['Runtime (Minutes)', 'Years Old', 'Production Budget',\n",
      "       'Director Twitter following', 'Top 3', 'Cast Twitter Following',\n",
      "       'Avg English Score', 'Rare English Score', 'Common English Score',\n",
      "       'Action', 'Adventure', 'Animation', 'Biography', 'Comedy', 'Crime',\n",
      "       'Drama', 'Fantasy', 'Horror', 'Mystery', 'Romance', 'Sci-Fi',\n",
      "       'Thriller', 'Jan', 'Feb', 'Mar', 'Apr', 'May', 'Jun', 'Jul', 'Aug',\n",
      "       'Sep', 'Oct', 'Nov', 'Dec'],\n",
      "      dtype='object')\n"
     ]
    }
   ],
   "source": [
    "train_dataset = df.sample(frac=0.8,random_state=0)\n",
    "test_dataset = df.drop(train_dataset.index)\n",
    "y_train = train_dataset['Target']\n",
    "y_test = test_dataset['Target']\n",
    "x_train = train_dataset.drop('Target', axis =1)\n",
    "print(x_train.columns)\n",
    "x_train = x_train[['Production Budget',\n",
    "       'Director Twitter following', 'Top 3', 'Cast Twitter Following',\n",
    "       'Avg English Score', 'Rare English Score', 'Common English Score']]\n",
    "x_test = test_dataset.drop('Target', axis=1)\n",
    "x_test = x_test[['Production Budget',\n",
    "       'Director Twitter following', 'Top 3', 'Cast Twitter Following',\n",
    "       'Avg English Score', 'Rare English Score', 'Common English Score']]"
   ]
  },
  {
   "cell_type": "code",
   "execution_count": 35,
   "metadata": {},
   "outputs": [
    {
     "data": {
      "text/plain": [
       "<function matplotlib.pyplot.show(*args, **kw)>"
      ]
     },
     "execution_count": 35,
     "metadata": {},
     "output_type": "execute_result"
    },
    {
     "data": {
      "image/png": "[encoded data removed]",
      "text/plain": [
       "<Figure size 540x540 with 12 Axes>"
      ]
     },
     "metadata": {
      "needs_background": "light"
     },
     "output_type": "display_data"
    }
   ],
   "source": [
    "from sklearn.linear_model import LinearRegression\n",
    "import matplotlib.pyplot as plt \n",
    "import seaborn as sns\n",
    "\n",
    "sns.pairplot(train_dataset[[\"Top 3\", \"Production Budget\", \"Common English Score\"]], diag_kind=\"kde\")\n",
    "plt.show"
   ]
  },
  {
   "cell_type": "code",
   "execution_count": 36,
   "metadata": {},
   "outputs": [
    {
     "data": {
      "text/plain": [
       "array([0.69640651, 0.60718166, 0.65995957, 0.63578517, 0.61366167,\n",
       "       0.62511702, 0.59673935, 0.59686681, 0.66156607, 0.63018132,\n",
       "       0.64947828, 0.72543469, 0.60003435, 0.61320979, 0.60472673,\n",
       "       0.60490053, 0.65171671, 0.64645227, 0.61802745, 0.66552999,\n",
       "       0.61831469, 0.59436581, 0.60657662, 0.6516493 , 0.58359558,\n",
       "       0.61598885, 0.65271984, 0.64662597, 0.60939885, 0.6236768 ,\n",
       "       0.65841315, 0.673965  , 0.79703524, 0.65892438, 0.65504337,\n",
       "       0.60024299, 0.587636  , 0.63014033, 0.630986  , 0.62668319,\n",
       "       0.60071021, 0.59805736, 0.62246904, 0.60345991, 0.65373772,\n",
       "       0.61463106, 0.72054726, 0.65503576, 0.59221451, 0.61976698,\n",
       "       0.58222621, 0.58332461, 0.68389864, 0.80303867, 0.61040444,\n",
       "       0.59988506, 0.66293719, 0.61140343, 0.58072703, 0.66699032,\n",
       "       0.58029956, 0.57933292, 0.58143799, 0.58340247, 0.5923449 ,\n",
       "       0.58550117, 0.6041745 , 0.59189468, 0.6140726 , 0.58786188,\n",
       "       0.59575726, 0.56904901, 0.61754103, 0.57899218, 0.57074529,\n",
       "       0.64626204, 0.61473096, 0.73230567, 0.58342123, 0.59383237,\n",
       "       0.62026277, 0.63342493, 0.59555087, 0.56523551, 0.61215024,\n",
       "       0.63499102, 0.61907564, 0.68256635, 0.62161046, 0.57326676,\n",
       "       0.57580961, 0.60837694, 0.57809275, 0.59143604, 0.59068694,\n",
       "       0.62447875, 0.62430464, 0.55638537, 0.56766652, 0.63814687,\n",
       "       0.61714484, 0.6240475 , 0.63714412, 0.61326892, 0.60316333,\n",
       "       0.5618964 , 0.69186466, 0.60146682, 0.5500602 , 0.60852879,\n",
       "       0.65002577, 0.62488976, 0.60210764, 0.62331927, 0.65037963,\n",
       "       0.61372175, 0.58883104, 0.61075478, 0.60961265, 0.60068568,\n",
       "       0.59565913, 0.61846803, 0.62629877, 0.64265704, 0.57977735,\n",
       "       0.6405115 , 0.62878851, 0.61575383, 0.60085421, 0.65794373,\n",
       "       0.60582384, 0.61080239, 0.63600785, 0.6289983 , 0.61490875,\n",
       "       0.6085415 , 0.69309079, 0.63189636, 0.58795645, 0.64442349,\n",
       "       0.60548534, 0.61407089, 0.55360651, 0.59419183, 0.59067997,\n",
       "       0.60589839, 0.57881381, 0.65164321, 0.6006316 , 0.61971381,\n",
       "       0.70187725, 0.61359176, 0.66656548, 0.58672455, 0.58376867,\n",
       "       0.68116383, 0.59713177, 0.66455268, 0.59454982, 0.5916384 ,\n",
       "       0.59769368, 0.65383036, 0.56848147, 0.61473221, 0.62095042,\n",
       "       0.62134442, 0.71297458, 0.63585395, 0.5804617 , 0.58110166,\n",
       "       0.57077301, 0.59868103, 0.61216319, 0.6127345 , 0.59405608,\n",
       "       0.61901565, 0.59621275])"
      ]
     },
     "execution_count": 36,
     "metadata": {},
     "output_type": "execute_result"
    }
   ],
   "source": [
    "from sklearn.metrics import mean_squared_error as mse\n",
    "model = LinearRegression().fit(x_train, y_train)\n",
    "\n",
    "model.predict(x_test)"
   ]
  },
  {
   "cell_type": "code",
   "execution_count": 37,
   "metadata": {},
   "outputs": [],
   "source": [
    "def getMetrics(model):\n",
    "    train_r_2= model.score(x_train, y_train)\n",
    "    y_preds = model.predict(x_test)\n",
    "    y_pred_train = model.predict(x_train)\n",
    "    train_mse = np.sqrt(mse(y_train,y_pred_train))\n",
    "    test_r_2 = model.score(x_test, y_test)\n",
    "    test_mse =  np.sqrt(mse(y_test, y_preds))\n",
    "    model_metrics = {'Train R2': train_r_2,\n",
    "                    'Test R2' : test_r_2,\n",
    "                    'Train RMSE': train_mse,\n",
    "                    'Test RMSE': test_mse,\n",
    "                    'Test Predictions': y_preds}\n",
    "    return model_metrics\n",
    "    "
   ]
  },
  {
   "cell_type": "code",
   "execution_count": 38,
   "metadata": {},
   "outputs": [
    {
     "name": "stdout",
     "output_type": "stream",
     "text": [
      "{'Train R2': 0.004282530410282148, 'Test R2': -0.03306581307544487, 'Train RMSE': 0.6688939453427286, 'Test RMSE': 0.2381243901271054, 'Test Predictions': array([0.69640651, 0.60718166, 0.65995957, 0.63578517, 0.61366167,\n",
      "       0.62511702, 0.59673935, 0.59686681, 0.66156607, 0.63018132,\n",
      "       0.64947828, 0.72543469, 0.60003435, 0.61320979, 0.60472673,\n",
      "       0.60490053, 0.65171671, 0.64645227, 0.61802745, 0.66552999,\n",
      "       0.61831469, 0.59436581, 0.60657662, 0.6516493 , 0.58359558,\n",
      "       0.61598885, 0.65271984, 0.64662597, 0.60939885, 0.6236768 ,\n",
      "       0.65841315, 0.673965  , 0.79703524, 0.65892438, 0.65504337,\n",
      "       0.60024299, 0.587636  , 0.63014033, 0.630986  , 0.62668319,\n",
      "       0.60071021, 0.59805736, 0.62246904, 0.60345991, 0.65373772,\n",
      "       0.61463106, 0.72054726, 0.65503576, 0.59221451, 0.61976698,\n",
      "       0.58222621, 0.58332461, 0.68389864, 0.80303867, 0.61040444,\n",
      "       0.59988506, 0.66293719, 0.61140343, 0.58072703, 0.66699032,\n",
      "       0.58029956, 0.57933292, 0.58143799, 0.58340247, 0.5923449 ,\n",
      "       0.58550117, 0.6041745 , 0.59189468, 0.6140726 , 0.58786188,\n",
      "       0.59575726, 0.56904901, 0.61754103, 0.57899218, 0.57074529,\n",
      "       0.64626204, 0.61473096, 0.73230567, 0.58342123, 0.59383237,\n",
      "       0.62026277, 0.63342493, 0.59555087, 0.56523551, 0.61215024,\n",
      "       0.63499102, 0.61907564, 0.68256635, 0.62161046, 0.57326676,\n",
      "       0.57580961, 0.60837694, 0.57809275, 0.59143604, 0.59068694,\n",
      "       0.62447875, 0.62430464, 0.55638537, 0.56766652, 0.63814687,\n",
      "       0.61714484, 0.6240475 , 0.63714412, 0.61326892, 0.60316333,\n",
      "       0.5618964 , 0.69186466, 0.60146682, 0.5500602 , 0.60852879,\n",
      "       0.65002577, 0.62488976, 0.60210764, 0.62331927, 0.65037963,\n",
      "       0.61372175, 0.58883104, 0.61075478, 0.60961265, 0.60068568,\n",
      "       0.59565913, 0.61846803, 0.62629877, 0.64265704, 0.57977735,\n",
      "       0.6405115 , 0.62878851, 0.61575383, 0.60085421, 0.65794373,\n",
      "       0.60582384, 0.61080239, 0.63600785, 0.6289983 , 0.61490875,\n",
      "       0.6085415 , 0.69309079, 0.63189636, 0.58795645, 0.64442349,\n",
      "       0.60548534, 0.61407089, 0.55360651, 0.59419183, 0.59067997,\n",
      "       0.60589839, 0.57881381, 0.65164321, 0.6006316 , 0.61971381,\n",
      "       0.70187725, 0.61359176, 0.66656548, 0.58672455, 0.58376867,\n",
      "       0.68116383, 0.59713177, 0.66455268, 0.59454982, 0.5916384 ,\n",
      "       0.59769368, 0.65383036, 0.56848147, 0.61473221, 0.62095042,\n",
      "       0.62134442, 0.71297458, 0.63585395, 0.5804617 , 0.58110166,\n",
      "       0.57077301, 0.59868103, 0.61216319, 0.6127345 , 0.59405608,\n",
      "       0.61901565, 0.59621275])}\n"
     ]
    }
   ],
   "source": [
    "mets = getMetrics(model)\n",
    "print(mets)"
   ]
  },
  {
   "cell_type": "code",
   "execution_count": 45,
   "metadata": {},
   "outputs": [
    {
     "data": {
      "image/png": "[encoded data removed]",
      "text/plain": [
       "<Figure size 432x288 with 1 Axes>"
      ]
     },
     "metadata": {
      "needs_background": "light"
     },
     "output_type": "display_data"
    }
   ],
   "source": [
    "test_predictions = model.predict(x_test).flatten()\n",
    "\n",
    "a = plt.axes(aspect='equal')\n",
    "plt.scatter(test_predictions, y_test)\n",
    "plt.xlabel('Actual Revenue Values')\n",
    "plt.ylabel('Predictions overseas Revenue')\n",
    "lims = [.4, .8]\n",
    "plt.xlim(lims)\n",
    "plt.ylim(lims)\n",
    "_ = plt.plot(lims, lims)\n"
   ]
  },
  {
   "cell_type": "code",
   "execution_count": 45,
   "metadata": {},
   "outputs": [
    {
     "data": {
      "text/plain": [
       "['Linear_Regressor.sav']"
      ]
     },
     "execution_count": 45,
     "metadata": {},
     "output_type": "execute_result"
    }
   ],
   "source": [
    "from sklearn.externals import joblib\n",
    "\n",
    "filename = 'Linear_Regressor.sav'\n",
    "joblib.dump(model, filename)"
   ]
  },
  {
   "cell_type": "code",
   "execution_count": null,
   "metadata": {},
   "outputs": [],
   "source": []
  }
 ],
 "metadata": {
  "kernelspec": {
   "display_name": "Python 3",
   "language": "python",
   "name": "python3"
  },
  "language_info": {
   "codemirror_mode": {
    "name": "ipython",
    "version": 3
   },
   "file_extension": ".py",
   "mimetype": "text/x-python",
   "name": "python",
   "nbconvert_exporter": "python",
   "pygments_lexer": "ipython3",
   "version": "3.7.3"
  }
 },
 "nbformat": 4,
 "nbformat_minor": 2
}
